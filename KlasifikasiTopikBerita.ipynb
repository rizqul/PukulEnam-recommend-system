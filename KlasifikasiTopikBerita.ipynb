{
  "cells": [
    {
      "cell_type": "code",
      "execution_count": null,
      "metadata": {
        "colab": {
          "base_uri": "https://localhost:8080/"
        },
        "id": "p_sAzvbjEP8u",
        "outputId": "d4ff846a-188d-4bb3-98fd-fe85ba358deb"
      },
      "outputs": [
        {
          "output_type": "stream",
          "name": "stdout",
          "text": [
            "Looking in indexes: https://pypi.org/simple, https://us-python.pkg.dev/colab-wheels/public/simple/\n",
            "Collecting Sastrawi\n",
            "  Downloading Sastrawi-1.0.1-py2.py3-none-any.whl (209 kB)\n",
            "\u001b[2K     \u001b[90m━━━━━━━━━━━━━━━━━━━━━━━━━━━━━━━━━━━━━━━\u001b[0m \u001b[32m209.7/209.7 kB\u001b[0m \u001b[31m6.4 MB/s\u001b[0m eta \u001b[36m0:00:00\u001b[0m\n",
            "\u001b[?25hInstalling collected packages: Sastrawi\n",
            "Successfully installed Sastrawi-1.0.1\n"
          ]
        }
      ],
      "source": [
        "!pip install Sastrawi"
      ]
    },
    {
      "cell_type": "code",
      "execution_count": null,
      "metadata": {
        "colab": {
          "base_uri": "https://localhost:8080/"
        },
        "id": "YgULolP9r_3r",
        "outputId": "edf18f27-76cf-4578-f94f-79c628901d4e"
      },
      "outputs": [
        {
          "output_type": "stream",
          "name": "stderr",
          "text": [
            "[nltk_data] Downloading package stopwords to /root/nltk_data...\n",
            "[nltk_data]   Unzipping corpora/stopwords.zip.\n",
            "[nltk_data] Downloading package punkt to /root/nltk_data...\n",
            "[nltk_data]   Unzipping tokenizers/punkt.zip.\n"
          ]
        },
        {
          "output_type": "execute_result",
          "data": {
            "text/plain": [
              "True"
            ]
          },
          "metadata": {},
          "execution_count": 2
        }
      ],
      "source": [
        "import pandas as pd\n",
        "import tensorflow as tf\n",
        "import numpy as np\n",
        "from tensorflow.keras.preprocessing.text import Tokenizer\n",
        "from tensorflow.keras.preprocessing.sequence import pad_sequences\n",
        "import matplotlib.pyplot as plt\n",
        "\n",
        "import string\n",
        "import nltk\n",
        "import re\n",
        "from nltk.corpus import stopwords\n",
        "from Sastrawi.Stemmer.StemmerFactory import StemmerFactory\n",
        "nltk.download('stopwords')\n",
        "nltk.download('punkt')"
      ]
    },
    {
      "cell_type": "code",
      "execution_count": null,
      "metadata": {
        "colab": {
          "base_uri": "https://localhost:8080/",
          "height": 206
        },
        "id": "bBYu956S8fng",
        "outputId": "946a8b38-8b06-4826-bbd3-15e67c72dbf4"
      },
      "outputs": [
        {
          "output_type": "execute_result",
          "data": {
            "text/plain": [
              "                                               Judul      Jenis\n",
              "0                Terapi Metadon Untuk Pecandu Heroin  Kesehatan\n",
              "1  Tesla Menuntut Seorang Influencer Vlogger Asal...  Teknologi\n",
              "2                   Lebih Melek pasar di Imlek 2022!  Finansial\n",
              "3      Indonesia Resmi Masuk Gelombang Tiga COVID-19  Kesehatan\n",
              "4  Bocoran Render Desain Xiaomi 12 Mini, Flagship...  Teknologi"
            ],
            "text/html": [
              "\n",
              "  <div id=\"df-3ac13e38-6ab4-4bd1-9b9e-5122be1ccb82\">\n",
              "    <div class=\"colab-df-container\">\n",
              "      <div>\n",
              "<style scoped>\n",
              "    .dataframe tbody tr th:only-of-type {\n",
              "        vertical-align: middle;\n",
              "    }\n",
              "\n",
              "    .dataframe tbody tr th {\n",
              "        vertical-align: top;\n",
              "    }\n",
              "\n",
              "    .dataframe thead th {\n",
              "        text-align: right;\n",
              "    }\n",
              "</style>\n",
              "<table border=\"1\" class=\"dataframe\">\n",
              "  <thead>\n",
              "    <tr style=\"text-align: right;\">\n",
              "      <th></th>\n",
              "      <th>Judul</th>\n",
              "      <th>Jenis</th>\n",
              "    </tr>\n",
              "  </thead>\n",
              "  <tbody>\n",
              "    <tr>\n",
              "      <th>0</th>\n",
              "      <td>Terapi Metadon Untuk Pecandu Heroin</td>\n",
              "      <td>Kesehatan</td>\n",
              "    </tr>\n",
              "    <tr>\n",
              "      <th>1</th>\n",
              "      <td>Tesla Menuntut Seorang Influencer Vlogger Asal...</td>\n",
              "      <td>Teknologi</td>\n",
              "    </tr>\n",
              "    <tr>\n",
              "      <th>2</th>\n",
              "      <td>Lebih Melek pasar di Imlek 2022!</td>\n",
              "      <td>Finansial</td>\n",
              "    </tr>\n",
              "    <tr>\n",
              "      <th>3</th>\n",
              "      <td>Indonesia Resmi Masuk Gelombang Tiga COVID-19</td>\n",
              "      <td>Kesehatan</td>\n",
              "    </tr>\n",
              "    <tr>\n",
              "      <th>4</th>\n",
              "      <td>Bocoran Render Desain Xiaomi 12 Mini, Flagship...</td>\n",
              "      <td>Teknologi</td>\n",
              "    </tr>\n",
              "  </tbody>\n",
              "</table>\n",
              "</div>\n",
              "      <button class=\"colab-df-convert\" onclick=\"convertToInteractive('df-3ac13e38-6ab4-4bd1-9b9e-5122be1ccb82')\"\n",
              "              title=\"Convert this dataframe to an interactive table.\"\n",
              "              style=\"display:none;\">\n",
              "        \n",
              "  <svg xmlns=\"http://www.w3.org/2000/svg\" height=\"24px\"viewBox=\"0 0 24 24\"\n",
              "       width=\"24px\">\n",
              "    <path d=\"M0 0h24v24H0V0z\" fill=\"none\"/>\n",
              "    <path d=\"M18.56 5.44l.94 2.06.94-2.06 2.06-.94-2.06-.94-.94-2.06-.94 2.06-2.06.94zm-11 1L8.5 8.5l.94-2.06 2.06-.94-2.06-.94L8.5 2.5l-.94 2.06-2.06.94zm10 10l.94 2.06.94-2.06 2.06-.94-2.06-.94-.94-2.06-.94 2.06-2.06.94z\"/><path d=\"M17.41 7.96l-1.37-1.37c-.4-.4-.92-.59-1.43-.59-.52 0-1.04.2-1.43.59L10.3 9.45l-7.72 7.72c-.78.78-.78 2.05 0 2.83L4 21.41c.39.39.9.59 1.41.59.51 0 1.02-.2 1.41-.59l7.78-7.78 2.81-2.81c.8-.78.8-2.07 0-2.86zM5.41 20L4 18.59l7.72-7.72 1.47 1.35L5.41 20z\"/>\n",
              "  </svg>\n",
              "      </button>\n",
              "      \n",
              "  <style>\n",
              "    .colab-df-container {\n",
              "      display:flex;\n",
              "      flex-wrap:wrap;\n",
              "      gap: 12px;\n",
              "    }\n",
              "\n",
              "    .colab-df-convert {\n",
              "      background-color: #E8F0FE;\n",
              "      border: none;\n",
              "      border-radius: 50%;\n",
              "      cursor: pointer;\n",
              "      display: none;\n",
              "      fill: #1967D2;\n",
              "      height: 32px;\n",
              "      padding: 0 0 0 0;\n",
              "      width: 32px;\n",
              "    }\n",
              "\n",
              "    .colab-df-convert:hover {\n",
              "      background-color: #E2EBFA;\n",
              "      box-shadow: 0px 1px 2px rgba(60, 64, 67, 0.3), 0px 1px 3px 1px rgba(60, 64, 67, 0.15);\n",
              "      fill: #174EA6;\n",
              "    }\n",
              "\n",
              "    [theme=dark] .colab-df-convert {\n",
              "      background-color: #3B4455;\n",
              "      fill: #D2E3FC;\n",
              "    }\n",
              "\n",
              "    [theme=dark] .colab-df-convert:hover {\n",
              "      background-color: #434B5C;\n",
              "      box-shadow: 0px 1px 3px 1px rgba(0, 0, 0, 0.15);\n",
              "      filter: drop-shadow(0px 1px 2px rgba(0, 0, 0, 0.3));\n",
              "      fill: #FFFFFF;\n",
              "    }\n",
              "  </style>\n",
              "\n",
              "      <script>\n",
              "        const buttonEl =\n",
              "          document.querySelector('#df-3ac13e38-6ab4-4bd1-9b9e-5122be1ccb82 button.colab-df-convert');\n",
              "        buttonEl.style.display =\n",
              "          google.colab.kernel.accessAllowed ? 'block' : 'none';\n",
              "\n",
              "        async function convertToInteractive(key) {\n",
              "          const element = document.querySelector('#df-3ac13e38-6ab4-4bd1-9b9e-5122be1ccb82');\n",
              "          const dataTable =\n",
              "            await google.colab.kernel.invokeFunction('convertToInteractive',\n",
              "                                                     [key], {});\n",
              "          if (!dataTable) return;\n",
              "\n",
              "          const docLinkHtml = 'Like what you see? Visit the ' +\n",
              "            '<a target=\"_blank\" href=https://colab.research.google.com/notebooks/data_table.ipynb>data table notebook</a>'\n",
              "            + ' to learn more about interactive tables.';\n",
              "          element.innerHTML = '';\n",
              "          dataTable['output_type'] = 'display_data';\n",
              "          await google.colab.output.renderOutput(dataTable, element);\n",
              "          const docLink = document.createElement('div');\n",
              "          docLink.innerHTML = docLinkHtml;\n",
              "          element.appendChild(docLink);\n",
              "        }\n",
              "      </script>\n",
              "    </div>\n",
              "  </div>\n",
              "  "
            ]
          },
          "metadata": {},
          "execution_count": 5
        }
      ],
      "source": [
        "articles_df = pd.read_csv('https://raw.githubusercontent.com/anscc2/Dataset/main/historical_articles.csv')\n",
        "articles_df.head()"
      ]
    },
    {
      "cell_type": "code",
      "execution_count": null,
      "metadata": {
        "colab": {
          "base_uri": "https://localhost:8080/",
          "height": 488
        },
        "id": "8VsUQMiM7Nbx",
        "outputId": "f546cbf0-a70e-4b49-c118-947775d652f7"
      },
      "outputs": [
        {
          "output_type": "display_data",
          "data": {
            "text/plain": [
              "<Figure size 640x480 with 1 Axes>"
            ],
            "image/png": "[encoded data removed]"
          },
          "metadata": {}
        }
      ],
      "source": [
        "jenis_counts = pd.Series(articles_df['Jenis']).value_counts()\n",
        "jenis_counts.plot(kind='bar')\n",
        "plt.show()"
      ]
    },
    {
      "cell_type": "code",
      "execution_count": null,
      "metadata": {
        "id": "JGfcsK9CDtKy"
      },
      "outputs": [],
      "source": [
        "NUM_WORDS = 1000\n",
        "# EMBEDDING_DIM = 16\n",
        "EMBEDDING_DIM = 100\n",
        "# MAXLEN = 120\n",
        "MAXLEN = 200\n",
        "PADDING = 'post'\n",
        "OOV_TOKEN = \"<OOV>\""
      ]
    },
    {
      "cell_type": "code",
      "execution_count": null,
      "metadata": {
        "id": "zAFiito-D38N"
      },
      "outputs": [],
      "source": [
        "def clean_text(text):\n",
        "  # Remove puncuation\n",
        "  text = text.translate(string.punctuation)\n",
        "\n",
        "  # Convert words to lower case and split them\n",
        "  text = text.lower().split()\n",
        "\n",
        "  # Remove stop words\n",
        "  stops = set(stopwords.words(\"indonesian\"))\n",
        "  text = [w for w in text if not w in stops and len(w) >= 3]\n",
        "  text = \" \".join(text)\n",
        "\n",
        "  # Clean the text\n",
        "  text = re.sub(r\"[^A-Za-z0-9^,!.\\/'+-=]\", \" \", text)\n",
        "\n",
        "  # Stemming\n",
        "  text = text.split()\n",
        "  factory = StemmerFactory()\n",
        "  stemmer = factory.create_stemmer()\n",
        "  stemmed_words = [stemmer.stem(word) for word in text]\n",
        "  text = \" \".join(stemmed_words)\n",
        "\n",
        "  return text\n",
        "\n",
        "articles_df['clean_text'] = articles_df['Judul'].map(lambda x: clean_text(x))"
      ]
    },
    {
      "cell_type": "code",
      "execution_count": null,
      "metadata": {
        "colab": {
          "base_uri": "https://localhost:8080/",
          "height": 206
        },
        "id": "dasCzHS-Ffvg",
        "outputId": "d5c310d7-81cd-4da0-8c32-4532ab07a86d"
      },
      "outputs": [
        {
          "output_type": "execute_result",
          "data": {
            "text/plain": [
              "                                               Judul      Jenis  \\\n",
              "0                Terapi Metadon Untuk Pecandu Heroin  Kesehatan   \n",
              "1  Tesla Menuntut Seorang Influencer Vlogger Asal...  Teknologi   \n",
              "2                   Lebih Melek pasar di Imlek 2022!  Finansial   \n",
              "3      Indonesia Resmi Masuk Gelombang Tiga COVID-19  Kesehatan   \n",
              "4  Bocoran Render Desain Xiaomi 12 Mini, Flagship...  Teknologi   \n",
              "\n",
              "                                          clean_text  \n",
              "0                        terapi metadon candu heroin  \n",
              "1      tesla tuntut influencer vlogger tiongkok alas  \n",
              "2                             melek pasar imlek 2022  \n",
              "3           indonesia resmi masuk gelombang covid-19  \n",
              "4  bocor render desain xiaomi mini flagship compa...  "
            ],
            "text/html": [
              "\n",
              "  <div id=\"df-cd796d6d-6538-4f82-af9d-71dc986aa4ac\">\n",
              "    <div class=\"colab-df-container\">\n",
              "      <div>\n",
              "<style scoped>\n",
              "    .dataframe tbody tr th:only-of-type {\n",
              "        vertical-align: middle;\n",
              "    }\n",
              "\n",
              "    .dataframe tbody tr th {\n",
              "        vertical-align: top;\n",
              "    }\n",
              "\n",
              "    .dataframe thead th {\n",
              "        text-align: right;\n",
              "    }\n",
              "</style>\n",
              "<table border=\"1\" class=\"dataframe\">\n",
              "  <thead>\n",
              "    <tr style=\"text-align: right;\">\n",
              "      <th></th>\n",
              "      <th>Judul</th>\n",
              "      <th>Jenis</th>\n",
              "      <th>clean_text</th>\n",
              "    </tr>\n",
              "  </thead>\n",
              "  <tbody>\n",
              "    <tr>\n",
              "      <th>0</th>\n",
              "      <td>Terapi Metadon Untuk Pecandu Heroin</td>\n",
              "      <td>Kesehatan</td>\n",
              "      <td>terapi metadon candu heroin</td>\n",
              "    </tr>\n",
              "    <tr>\n",
              "      <th>1</th>\n",
              "      <td>Tesla Menuntut Seorang Influencer Vlogger Asal...</td>\n",
              "      <td>Teknologi</td>\n",
              "      <td>tesla tuntut influencer vlogger tiongkok alas</td>\n",
              "    </tr>\n",
              "    <tr>\n",
              "      <th>2</th>\n",
              "      <td>Lebih Melek pasar di Imlek 2022!</td>\n",
              "      <td>Finansial</td>\n",
              "      <td>melek pasar imlek 2022</td>\n",
              "    </tr>\n",
              "    <tr>\n",
              "      <th>3</th>\n",
              "      <td>Indonesia Resmi Masuk Gelombang Tiga COVID-19</td>\n",
              "      <td>Kesehatan</td>\n",
              "      <td>indonesia resmi masuk gelombang covid-19</td>\n",
              "    </tr>\n",
              "    <tr>\n",
              "      <th>4</th>\n",
              "      <td>Bocoran Render Desain Xiaomi 12 Mini, Flagship...</td>\n",
              "      <td>Teknologi</td>\n",
              "      <td>bocor render desain xiaomi mini flagship compa...</td>\n",
              "    </tr>\n",
              "  </tbody>\n",
              "</table>\n",
              "</div>\n",
              "      <button class=\"colab-df-convert\" onclick=\"convertToInteractive('df-cd796d6d-6538-4f82-af9d-71dc986aa4ac')\"\n",
              "              title=\"Convert this dataframe to an interactive table.\"\n",
              "              style=\"display:none;\">\n",
              "        \n",
              "  <svg xmlns=\"http://www.w3.org/2000/svg\" height=\"24px\"viewBox=\"0 0 24 24\"\n",
              "       width=\"24px\">\n",
              "    <path d=\"M0 0h24v24H0V0z\" fill=\"none\"/>\n",
              "    <path d=\"M18.56 5.44l.94 2.06.94-2.06 2.06-.94-2.06-.94-.94-2.06-.94 2.06-2.06.94zm-11 1L8.5 8.5l.94-2.06 2.06-.94-2.06-.94L8.5 2.5l-.94 2.06-2.06.94zm10 10l.94 2.06.94-2.06 2.06-.94-2.06-.94-.94-2.06-.94 2.06-2.06.94z\"/><path d=\"M17.41 7.96l-1.37-1.37c-.4-.4-.92-.59-1.43-.59-.52 0-1.04.2-1.43.59L10.3 9.45l-7.72 7.72c-.78.78-.78 2.05 0 2.83L4 21.41c.39.39.9.59 1.41.59.51 0 1.02-.2 1.41-.59l7.78-7.78 2.81-2.81c.8-.78.8-2.07 0-2.86zM5.41 20L4 18.59l7.72-7.72 1.47 1.35L5.41 20z\"/>\n",
              "  </svg>\n",
              "      </button>\n",
              "      \n",
              "  <style>\n",
              "    .colab-df-container {\n",
              "      display:flex;\n",
              "      flex-wrap:wrap;\n",
              "      gap: 12px;\n",
              "    }\n",
              "\n",
              "    .colab-df-convert {\n",
              "      background-color: #E8F0FE;\n",
              "      border: none;\n",
              "      border-radius: 50%;\n",
              "      cursor: pointer;\n",
              "      display: none;\n",
              "      fill: #1967D2;\n",
              "      height: 32px;\n",
              "      padding: 0 0 0 0;\n",
              "      width: 32px;\n",
              "    }\n",
              "\n",
              "    .colab-df-convert:hover {\n",
              "      background-color: #E2EBFA;\n",
              "      box-shadow: 0px 1px 2px rgba(60, 64, 67, 0.3), 0px 1px 3px 1px rgba(60, 64, 67, 0.15);\n",
              "      fill: #174EA6;\n",
              "    }\n",
              "\n",
              "    [theme=dark] .colab-df-convert {\n",
              "      background-color: #3B4455;\n",
              "      fill: #D2E3FC;\n",
              "    }\n",
              "\n",
              "    [theme=dark] .colab-df-convert:hover {\n",
              "      background-color: #434B5C;\n",
              "      box-shadow: 0px 1px 3px 1px rgba(0, 0, 0, 0.15);\n",
              "      filter: drop-shadow(0px 1px 2px rgba(0, 0, 0, 0.3));\n",
              "      fill: #FFFFFF;\n",
              "    }\n",
              "  </style>\n",
              "\n",
              "      <script>\n",
              "        const buttonEl =\n",
              "          document.querySelector('#df-cd796d6d-6538-4f82-af9d-71dc986aa4ac button.colab-df-convert');\n",
              "        buttonEl.style.display =\n",
              "          google.colab.kernel.accessAllowed ? 'block' : 'none';\n",
              "\n",
              "        async function convertToInteractive(key) {\n",
              "          const element = document.querySelector('#df-cd796d6d-6538-4f82-af9d-71dc986aa4ac');\n",
              "          const dataTable =\n",
              "            await google.colab.kernel.invokeFunction('convertToInteractive',\n",
              "                                                     [key], {});\n",
              "          if (!dataTable) return;\n",
              "\n",
              "          const docLinkHtml = 'Like what you see? Visit the ' +\n",
              "            '<a target=\"_blank\" href=https://colab.research.google.com/notebooks/data_table.ipynb>data table notebook</a>'\n",
              "            + ' to learn more about interactive tables.';\n",
              "          element.innerHTML = '';\n",
              "          dataTable['output_type'] = 'display_data';\n",
              "          await google.colab.output.renderOutput(dataTable, element);\n",
              "          const docLink = document.createElement('div');\n",
              "          docLink.innerHTML = docLinkHtml;\n",
              "          element.appendChild(docLink);\n",
              "        }\n",
              "      </script>\n",
              "    </div>\n",
              "  </div>\n",
              "  "
            ]
          },
          "metadata": {},
          "execution_count": 7
        }
      ],
      "source": [
        "articles_df.head()"
      ]
    },
    {
      "cell_type": "code",
      "execution_count": null,
      "metadata": {
        "colab": {
          "base_uri": "https://localhost:8080/",
          "height": 206
        },
        "id": "ClQSWl32fNY3",
        "outputId": "5fa49673-820c-4280-8c35-6615257d7df2"
      },
      "outputs": [
        {
          "output_type": "execute_result",
          "data": {
            "text/plain": [
              "                                               Judul  \\\n",
              "0                Terapi Metadon Untuk Pecandu Heroin   \n",
              "1  Tesla Menuntut Seorang Influencer Vlogger Asal...   \n",
              "2                   Lebih Melek pasar di Imlek 2022!   \n",
              "3      Indonesia Resmi Masuk Gelombang Tiga COVID-19   \n",
              "4  Bocoran Render Desain Xiaomi 12 Mini, Flagship...   \n",
              "\n",
              "                                          clean_text  Finansial  Gaming  \\\n",
              "0                        terapi metadon candu heroin          0       0   \n",
              "1      tesla tuntut influencer vlogger tiongkok alas          0       0   \n",
              "2                             melek pasar imlek 2022          1       0   \n",
              "3           indonesia resmi masuk gelombang covid-19          0       0   \n",
              "4  bocor render desain xiaomi mini flagship compa...          0       0   \n",
              "\n",
              "   Hiburan  Kesehatan  Olahraga  Teknologi  \n",
              "0        0          1         0          0  \n",
              "1        0          0         0          1  \n",
              "2        0          0         0          0  \n",
              "3        0          1         0          0  \n",
              "4        0          0         0          1  "
            ],
            "text/html": [
              "\n",
              "  <div id=\"df-5c69d55e-6ac7-4326-bda0-7213e635e1ed\">\n",
              "    <div class=\"colab-df-container\">\n",
              "      <div>\n",
              "<style scoped>\n",
              "    .dataframe tbody tr th:only-of-type {\n",
              "        vertical-align: middle;\n",
              "    }\n",
              "\n",
              "    .dataframe tbody tr th {\n",
              "        vertical-align: top;\n",
              "    }\n",
              "\n",
              "    .dataframe thead th {\n",
              "        text-align: right;\n",
              "    }\n",
              "</style>\n",
              "<table border=\"1\" class=\"dataframe\">\n",
              "  <thead>\n",
              "    <tr style=\"text-align: right;\">\n",
              "      <th></th>\n",
              "      <th>Judul</th>\n",
              "      <th>clean_text</th>\n",
              "      <th>Finansial</th>\n",
              "      <th>Gaming</th>\n",
              "      <th>Hiburan</th>\n",
              "      <th>Kesehatan</th>\n",
              "      <th>Olahraga</th>\n",
              "      <th>Teknologi</th>\n",
              "    </tr>\n",
              "  </thead>\n",
              "  <tbody>\n",
              "    <tr>\n",
              "      <th>0</th>\n",
              "      <td>Terapi Metadon Untuk Pecandu Heroin</td>\n",
              "      <td>terapi metadon candu heroin</td>\n",
              "      <td>0</td>\n",
              "      <td>0</td>\n",
              "      <td>0</td>\n",
              "      <td>1</td>\n",
              "      <td>0</td>\n",
              "      <td>0</td>\n",
              "    </tr>\n",
              "    <tr>\n",
              "      <th>1</th>\n",
              "      <td>Tesla Menuntut Seorang Influencer Vlogger Asal...</td>\n",
              "      <td>tesla tuntut influencer vlogger tiongkok alas</td>\n",
              "      <td>0</td>\n",
              "      <td>0</td>\n",
              "      <td>0</td>\n",
              "      <td>0</td>\n",
              "      <td>0</td>\n",
              "      <td>1</td>\n",
              "    </tr>\n",
              "    <tr>\n",
              "      <th>2</th>\n",
              "      <td>Lebih Melek pasar di Imlek 2022!</td>\n",
              "      <td>melek pasar imlek 2022</td>\n",
              "      <td>1</td>\n",
              "      <td>0</td>\n",
              "      <td>0</td>\n",
              "      <td>0</td>\n",
              "      <td>0</td>\n",
              "      <td>0</td>\n",
              "    </tr>\n",
              "    <tr>\n",
              "      <th>3</th>\n",
              "      <td>Indonesia Resmi Masuk Gelombang Tiga COVID-19</td>\n",
              "      <td>indonesia resmi masuk gelombang covid-19</td>\n",
              "      <td>0</td>\n",
              "      <td>0</td>\n",
              "      <td>0</td>\n",
              "      <td>1</td>\n",
              "      <td>0</td>\n",
              "      <td>0</td>\n",
              "    </tr>\n",
              "    <tr>\n",
              "      <th>4</th>\n",
              "      <td>Bocoran Render Desain Xiaomi 12 Mini, Flagship...</td>\n",
              "      <td>bocor render desain xiaomi mini flagship compa...</td>\n",
              "      <td>0</td>\n",
              "      <td>0</td>\n",
              "      <td>0</td>\n",
              "      <td>0</td>\n",
              "      <td>0</td>\n",
              "      <td>1</td>\n",
              "    </tr>\n",
              "  </tbody>\n",
              "</table>\n",
              "</div>\n",
              "      <button class=\"colab-df-convert\" onclick=\"convertToInteractive('df-5c69d55e-6ac7-4326-bda0-7213e635e1ed')\"\n",
              "              title=\"Convert this dataframe to an interactive table.\"\n",
              "              style=\"display:none;\">\n",
              "        \n",
              "  <svg xmlns=\"http://www.w3.org/2000/svg\" height=\"24px\"viewBox=\"0 0 24 24\"\n",
              "       width=\"24px\">\n",
              "    <path d=\"M0 0h24v24H0V0z\" fill=\"none\"/>\n",
              "    <path d=\"M18.56 5.44l.94 2.06.94-2.06 2.06-.94-2.06-.94-.94-2.06-.94 2.06-2.06.94zm-11 1L8.5 8.5l.94-2.06 2.06-.94-2.06-.94L8.5 2.5l-.94 2.06-2.06.94zm10 10l.94 2.06.94-2.06 2.06-.94-2.06-.94-.94-2.06-.94 2.06-2.06.94z\"/><path d=\"M17.41 7.96l-1.37-1.37c-.4-.4-.92-.59-1.43-.59-.52 0-1.04.2-1.43.59L10.3 9.45l-7.72 7.72c-.78.78-.78 2.05 0 2.83L4 21.41c.39.39.9.59 1.41.59.51 0 1.02-.2 1.41-.59l7.78-7.78 2.81-2.81c.8-.78.8-2.07 0-2.86zM5.41 20L4 18.59l7.72-7.72 1.47 1.35L5.41 20z\"/>\n",
              "  </svg>\n",
              "      </button>\n",
              "      \n",
              "  <style>\n",
              "    .colab-df-container {\n",
              "      display:flex;\n",
              "      flex-wrap:wrap;\n",
              "      gap: 12px;\n",
              "    }\n",
              "\n",
              "    .colab-df-convert {\n",
              "      background-color: #E8F0FE;\n",
              "      border: none;\n",
              "      border-radius: 50%;\n",
              "      cursor: pointer;\n",
              "      display: none;\n",
              "      fill: #1967D2;\n",
              "      height: 32px;\n",
              "      padding: 0 0 0 0;\n",
              "      width: 32px;\n",
              "    }\n",
              "\n",
              "    .colab-df-convert:hover {\n",
              "      background-color: #E2EBFA;\n",
              "      box-shadow: 0px 1px 2px rgba(60, 64, 67, 0.3), 0px 1px 3px 1px rgba(60, 64, 67, 0.15);\n",
              "      fill: #174EA6;\n",
              "    }\n",
              "\n",
              "    [theme=dark] .colab-df-convert {\n",
              "      background-color: #3B4455;\n",
              "      fill: #D2E3FC;\n",
              "    }\n",
              "\n",
              "    [theme=dark] .colab-df-convert:hover {\n",
              "      background-color: #434B5C;\n",
              "      box-shadow: 0px 1px 3px 1px rgba(0, 0, 0, 0.15);\n",
              "      filter: drop-shadow(0px 1px 2px rgba(0, 0, 0, 0.3));\n",
              "      fill: #FFFFFF;\n",
              "    }\n",
              "  </style>\n",
              "\n",
              "      <script>\n",
              "        const buttonEl =\n",
              "          document.querySelector('#df-5c69d55e-6ac7-4326-bda0-7213e635e1ed button.colab-df-convert');\n",
              "        buttonEl.style.display =\n",
              "          google.colab.kernel.accessAllowed ? 'block' : 'none';\n",
              "\n",
              "        async function convertToInteractive(key) {\n",
              "          const element = document.querySelector('#df-5c69d55e-6ac7-4326-bda0-7213e635e1ed');\n",
              "          const dataTable =\n",
              "            await google.colab.kernel.invokeFunction('convertToInteractive',\n",
              "                                                     [key], {});\n",
              "          if (!dataTable) return;\n",
              "\n",
              "          const docLinkHtml = 'Like what you see? Visit the ' +\n",
              "            '<a target=\"_blank\" href=https://colab.research.google.com/notebooks/data_table.ipynb>data table notebook</a>'\n",
              "            + ' to learn more about interactive tables.';\n",
              "          element.innerHTML = '';\n",
              "          dataTable['output_type'] = 'display_data';\n",
              "          await google.colab.output.renderOutput(dataTable, element);\n",
              "          const docLink = document.createElement('div');\n",
              "          docLink.innerHTML = docLinkHtml;\n",
              "          element.appendChild(docLink);\n",
              "        }\n",
              "      </script>\n",
              "    </div>\n",
              "  </div>\n",
              "  "
            ]
          },
          "metadata": {},
          "execution_count": 8
        }
      ],
      "source": [
        "category = pd.get_dummies(articles_df.Jenis)\n",
        "new_df = pd.concat([articles_df, category], axis=1)\n",
        "new_df = new_df.drop(columns=\"Jenis\")\n",
        "new_df.head()"
      ]
    },
    {
      "cell_type": "code",
      "execution_count": null,
      "metadata": {
        "id": "Wl__Y5rDL9yQ"
      },
      "outputs": [],
      "source": [
        "# Convert topics to one-hot encoded vectors\n",
        "features = [\"Finansial\", \"Gaming\", \"Hiburan\", \"Kesehatan\", \"Olahraga\", \"Teknologi\"]\n",
        "titles = new_df['clean_text'].values\n",
        "topics = new_df[features].values"
      ]
    },
    {
      "cell_type": "code",
      "execution_count": null,
      "metadata": {
        "colab": {
          "base_uri": "https://localhost:8080/"
        },
        "id": "v_LdtU_uLOKR",
        "outputId": "5cf2d042-953e-4931-c5b8-cc34f2850a27"
      },
      "outputs": [
        {
          "output_type": "stream",
          "name": "stdout",
          "text": [
            "There are 446 sentences for training.\n",
            "\n",
            "There are 446 labels for training.\n",
            "\n",
            "There are 50 sentences for validation.\n",
            "\n",
            "There are 50 labels for validation.\n"
          ]
        }
      ],
      "source": [
        "from sklearn.model_selection import train_test_split\n",
        "train_sentences, val_sentences, train_labels, val_labels = train_test_split(titles, topics, test_size=0.1, random_state=42, shuffle=True)\n",
        "\n",
        "print(f\"There are {len(train_sentences)} sentences for training.\\n\")\n",
        "print(f\"There are {len(train_labels)} labels for training.\\n\")\n",
        "print(f\"There are {len(val_sentences)} sentences for validation.\\n\")\n",
        "print(f\"There are {len(val_labels)} labels for validation.\")"
      ]
    },
    {
      "cell_type": "code",
      "execution_count": null,
      "metadata": {
        "colab": {
          "base_uri": "https://localhost:8080/"
        },
        "id": "5Lp4ivv4LZBc",
        "outputId": "d28f3c58-1540-4df5-9c5a-006e10be47ee"
      },
      "outputs": [
        {
          "output_type": "stream",
          "name": "stdout",
          "text": [
            "Vocabulary contains 1563 words\n",
            "\n"
          ]
        }
      ],
      "source": [
        "def fit_tokenizer(train_sentences, num_words, oov_token):\n",
        "    # Instantiate the Tokenizer class, passing in the correct values for num_words and oov_token\n",
        "    tokenizer = Tokenizer(num_words=num_words , oov_token=oov_token)\n",
        "    # Fit the tokenizer to the training sentences\n",
        "    tokenizer.fit_on_texts(train_sentences)\n",
        "    return tokenizer\n",
        "\n",
        "tokenizer = fit_tokenizer(train_sentences, NUM_WORDS, OOV_TOKEN)\n",
        "word_index = tokenizer.word_index\n",
        "vocab_size = len(word_index) + 1\n",
        "\n",
        "print(f\"Vocabulary contains {len(word_index)} words\\n\")\n",
        "# print(\"<OOV> token included in vocabulary\" if \"<OOV>\" in word_index else \"<OOV> token NOT included in vocabulary\")"
      ]
    },
    {
      "cell_type": "code",
      "execution_count": null,
      "metadata": {
        "colab": {
          "base_uri": "https://localhost:8080/"
        },
        "id": "xme0r55WLmjk",
        "outputId": "0073e9c9-47de-4a89-bceb-2b50476cf12f"
      },
      "outputs": [
        {
          "output_type": "stream",
          "name": "stdout",
          "text": [
            "Padded training sequences have shape: (446, 200)\n",
            "\n",
            "Padded validation sequences have shape: (50, 200)\n"
          ]
        }
      ],
      "source": [
        "def seq_and_pad(sentences, tokenizer, padding, maxlen):\n",
        "    # Convert sentences to sequences\n",
        "    sequences = tokenizer.texts_to_sequences(sentences)\n",
        "    # Pad the sequences using the correct padding and maxlen\n",
        "    padded_sequences = pad_sequences(sequences, maxlen=maxlen, padding=padding)\n",
        "    return padded_sequences\n",
        "\n",
        "train_padded_seq = seq_and_pad(train_sentences, tokenizer, PADDING, MAXLEN)\n",
        "val_padded_seq = seq_and_pad(val_sentences, tokenizer, PADDING, MAXLEN)\n",
        "\n",
        "print(f\"Padded training sequences have shape: {train_padded_seq.shape}\\n\")\n",
        "print(f\"Padded validation sequences have shape: {val_padded_seq.shape}\")"
      ]
    },
    {
      "cell_type": "code",
      "execution_count": null,
      "metadata": {
        "id": "hVzdVyxdMU-B"
      },
      "outputs": [],
      "source": [
        "# num_words = 1000\n",
        "# embedding_dim = 16\n",
        "# maxlen = 120\n",
        "def create_model(num_words, embedding_dim, maxlen):\n",
        "\n",
        "    model = tf.keras.Sequential([ \n",
        "        tf.keras.layers.Embedding(num_words, embedding_dim, input_length=maxlen),\n",
        "        tf.keras.layers.Bidirectional(tf.keras.layers.LSTM(100, dropout=0.2)),\n",
        "        # tf.keras.layers.Dense(64, activation='relu'),\n",
        "        tf.keras.layers.Dense(6, activation='softmax')\n",
        "    ])\n",
        "    \n",
        "    model.compile(loss='categorical_crossentropy',\n",
        "                  optimizer='adam',\n",
        "                  metrics=['accuracy']) \n",
        "\n",
        "    return model"
      ]
    },
    {
      "cell_type": "code",
      "execution_count": null,
      "metadata": {
        "colab": {
          "base_uri": "https://localhost:8080/"
        },
        "id": "SQ9MY4CNMftc",
        "outputId": "c545e6f4-4d69-4ef8-ec51-388a1c6f5831"
      },
      "outputs": [
        {
          "output_type": "stream",
          "name": "stdout",
          "text": [
            "Epoch 1/10\n",
            "14/14 [==============================] - 8s 261ms/step - loss: 1.6144 - accuracy: 0.3004 - val_loss: 1.3573 - val_accuracy: 0.3600\n",
            "Epoch 2/10\n",
            "14/14 [==============================] - 2s 135ms/step - loss: 1.4156 - accuracy: 0.3632 - val_loss: 1.3015 - val_accuracy: 0.5000\n",
            "Epoch 3/10\n",
            "14/14 [==============================] - 1s 92ms/step - loss: 1.3655 - accuracy: 0.5493 - val_loss: 1.2619 - val_accuracy: 0.4600\n",
            "Epoch 4/10\n",
            "14/14 [==============================] - 1s 49ms/step - loss: 1.2804 - accuracy: 0.5852 - val_loss: 1.1597 - val_accuracy: 0.5400\n",
            "Epoch 5/10\n",
            "14/14 [==============================] - 1s 39ms/step - loss: 1.0701 - accuracy: 0.6413 - val_loss: 1.1081 - val_accuracy: 0.4600\n",
            "Epoch 6/10\n",
            "14/14 [==============================] - 1s 49ms/step - loss: 0.9109 - accuracy: 0.7735 - val_loss: 0.9179 - val_accuracy: 0.6400\n",
            "Epoch 7/10\n",
            "14/14 [==============================] - 1s 43ms/step - loss: 0.6655 - accuracy: 0.8229 - val_loss: 0.7873 - val_accuracy: 0.7200\n",
            "Epoch 8/10\n",
            "14/14 [==============================] - 1s 50ms/step - loss: 0.5021 - accuracy: 0.8498 - val_loss: 0.6581 - val_accuracy: 0.7400\n",
            "Epoch 9/10\n",
            "14/14 [==============================] - 1s 54ms/step - loss: 0.4013 - accuracy: 0.8520 - val_loss: 0.6459 - val_accuracy: 0.7800\n",
            "Epoch 10/10\n",
            "14/14 [==============================] - 1s 56ms/step - loss: 0.3485 - accuracy: 0.8969 - val_loss: 0.5987 - val_accuracy: 0.8000\n"
          ]
        }
      ],
      "source": [
        "model = create_model(vocab_size, 100, 200)\n",
        "\n",
        "history = model.fit(train_padded_seq, train_labels, epochs=10, validation_data=(val_padded_seq, val_labels))"
      ]
    },
    {
      "cell_type": "code",
      "execution_count": null,
      "metadata": {
        "id": "5EvPpwaUnRDM"
      },
      "outputs": [],
      "source": [
        "# model.save(\"my_model\")"
      ]
    },
    {
      "cell_type": "code",
      "execution_count": null,
      "metadata": {
        "colab": {
          "base_uri": "https://localhost:8080/",
          "height": 881
        },
        "id": "Z2sFcbBXMrph",
        "outputId": "3e000e02-b188-40f4-9cca-97c872f917dd"
      },
      "outputs": [
        {
          "output_type": "display_data",
          "data": {
            "text/plain": [
              "<Figure size 640x480 with 1 Axes>"
            ],
            "image/png": "[encoded data removed]"
          },
          "metadata": {}
        },
        {
          "output_type": "display_data",
          "data": {
            "text/plain": [
              "<Figure size 640x480 with 1 Axes>"
            ],
            "image/png": "[encoded data removed]"
          },
          "metadata": {}
        }
      ],
      "source": [
        "def plot_graphs(history, metric):\n",
        "    plt.plot(history.history[metric])\n",
        "    plt.plot(history.history[f'val_{metric}'])\n",
        "    plt.xlabel(\"Epochs\")\n",
        "    plt.ylabel(metric)\n",
        "    plt.legend([metric, f'val_{metric}'])\n",
        "    plt.show()\n",
        "    \n",
        "plot_graphs(history, \"accuracy\")\n",
        "plot_graphs(history, \"loss\")"
      ]
    },
    {
      "cell_type": "code",
      "execution_count": null,
      "metadata": {
        "id": "PQW24nzwxXmQ"
      },
      "outputs": [],
      "source": [
        "# Function to predict topic from news title\n",
        "def predict_topic(title):\n",
        "  clean = clean_text(title)\n",
        "  padded_sequence = seq_and_pad([clean], tokenizer, PADDING, MAXLEN)\n",
        "  prediction = model.predict(padded_sequence)\n",
        "  topic_index = np.argmax(prediction)\n",
        "  topic = features[topic_index]\n",
        "  print(prediction)\n",
        "  return topic"
      ]
    },
    {
      "cell_type": "code",
      "execution_count": null,
      "metadata": {
        "colab": {
          "base_uri": "https://localhost:8080/"
        },
        "id": "gpp5z6tFlUOV",
        "outputId": "177d0f5c-1c7a-4b70-fece-0aa85eb654b9"
      },
      "outputs": [
        {
          "output_type": "execute_result",
          "data": {
            "text/plain": [
              "['Finansial', 'Gaming', 'Hiburan', 'Kesehatan', 'Olahraga', 'Teknologi']"
            ]
          },
          "metadata": {},
          "execution_count": 18
        }
      ],
      "source": [
        "features"
      ]
    },
    {
      "cell_type": "code",
      "execution_count": null,
      "metadata": {
        "colab": {
          "base_uri": "https://localhost:8080/"
        },
        "id": "tBjn1mgHxiKh",
        "outputId": "f65bb231-055d-46f5-921c-7f5ffb6ebd47"
      },
      "outputs": [
        {
          "output_type": "stream",
          "name": "stdout",
          "text": [
            "1/1 [==============================] - 1s 637ms/step\n",
            "[[0.01442979 0.00714669 0.00444293 0.01030836 0.0140998  0.9495724 ]]\n",
            "Teknologi\n"
          ]
        }
      ],
      "source": [
        "# Input news title from user\n",
        "# title = input(\"Enter a news title: \")\n",
        "title = \"2 Cara Blur WhatsApp Web biar Chat Gak Diintip Orang\"\n",
        "\n",
        "# Analyze topic from news title\n",
        "topic = predict_topic(title)\n",
        "\n",
        "print(topic)"
      ]
    }
  ],
  "metadata": {
    "accelerator": "GPU",
    "colab": {
      "provenance": []
    },
    "gpuClass": "standard",
    "kernelspec": {
      "display_name": "Python 3",
      "name": "python3"
    },
    "language_info": {
      "name": "python"
    }
  },
  "nbformat": 4,
  "nbformat_minor": 0
}